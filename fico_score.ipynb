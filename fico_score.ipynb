{
 "cells": [
  {
   "cell_type": "markdown",
   "metadata": {},
   "source": [
    "We will explore 3 methods for bucketing:\n",
    "1. Using Quantiles\n",
    "2. Mean Squared Error (MSE) Optimization → Minimize squared error within buckets.\n",
    "3. Log-Likelihood Optimization → Maximize the statistical likelihood of default distribution."
   ]
  },
  {
   "cell_type": "markdown",
   "metadata": {},
   "source": []
  },
  {
   "cell_type": "code",
   "execution_count": 54,
   "metadata": {},
   "outputs": [],
   "source": [
    "import numpy as np\n",
    "import pandas as pd\n",
    "import matplotlib.pyplot as plt\n",
    "import seaborn as sns\n",
    "\n",
    "from sklearn.metrics import mean_squared_error\n",
    "from itertools import combinations"
   ]
  },
  {
   "cell_type": "code",
   "execution_count": 55,
   "metadata": {},
   "outputs": [
    {
     "data": {
      "text/html": [
       "<div>\n",
       "<style scoped>\n",
       "    .dataframe tbody tr th:only-of-type {\n",
       "        vertical-align: middle;\n",
       "    }\n",
       "\n",
       "    .dataframe tbody tr th {\n",
       "        vertical-align: top;\n",
       "    }\n",
       "\n",
       "    .dataframe thead th {\n",
       "        text-align: right;\n",
       "    }\n",
       "</style>\n",
       "<table border=\"1\" class=\"dataframe\">\n",
       "  <thead>\n",
       "    <tr style=\"text-align: right;\">\n",
       "      <th></th>\n",
       "      <th>customer_id</th>\n",
       "      <th>credit_lines_outstanding</th>\n",
       "      <th>loan_amt_outstanding</th>\n",
       "      <th>total_debt_outstanding</th>\n",
       "      <th>income</th>\n",
       "      <th>years_employed</th>\n",
       "      <th>fico_score</th>\n",
       "      <th>default</th>\n",
       "    </tr>\n",
       "  </thead>\n",
       "  <tbody>\n",
       "    <tr>\n",
       "      <th>0</th>\n",
       "      <td>8153374</td>\n",
       "      <td>0</td>\n",
       "      <td>5221.545193</td>\n",
       "      <td>3915.471226</td>\n",
       "      <td>78039.38546</td>\n",
       "      <td>5</td>\n",
       "      <td>605</td>\n",
       "      <td>0</td>\n",
       "    </tr>\n",
       "    <tr>\n",
       "      <th>1</th>\n",
       "      <td>7442532</td>\n",
       "      <td>5</td>\n",
       "      <td>1958.928726</td>\n",
       "      <td>8228.752520</td>\n",
       "      <td>26648.43525</td>\n",
       "      <td>2</td>\n",
       "      <td>572</td>\n",
       "      <td>1</td>\n",
       "    </tr>\n",
       "    <tr>\n",
       "      <th>2</th>\n",
       "      <td>2256073</td>\n",
       "      <td>0</td>\n",
       "      <td>3363.009259</td>\n",
       "      <td>2027.830850</td>\n",
       "      <td>65866.71246</td>\n",
       "      <td>4</td>\n",
       "      <td>602</td>\n",
       "      <td>0</td>\n",
       "    </tr>\n",
       "    <tr>\n",
       "      <th>3</th>\n",
       "      <td>4885975</td>\n",
       "      <td>0</td>\n",
       "      <td>4766.648001</td>\n",
       "      <td>2501.730397</td>\n",
       "      <td>74356.88347</td>\n",
       "      <td>5</td>\n",
       "      <td>612</td>\n",
       "      <td>0</td>\n",
       "    </tr>\n",
       "    <tr>\n",
       "      <th>4</th>\n",
       "      <td>4700614</td>\n",
       "      <td>1</td>\n",
       "      <td>1345.827718</td>\n",
       "      <td>1768.826187</td>\n",
       "      <td>23448.32631</td>\n",
       "      <td>6</td>\n",
       "      <td>631</td>\n",
       "      <td>0</td>\n",
       "    </tr>\n",
       "  </tbody>\n",
       "</table>\n",
       "</div>"
      ],
      "text/plain": [
       "   customer_id  credit_lines_outstanding  loan_amt_outstanding  \\\n",
       "0      8153374                         0           5221.545193   \n",
       "1      7442532                         5           1958.928726   \n",
       "2      2256073                         0           3363.009259   \n",
       "3      4885975                         0           4766.648001   \n",
       "4      4700614                         1           1345.827718   \n",
       "\n",
       "   total_debt_outstanding       income  years_employed  fico_score  default  \n",
       "0             3915.471226  78039.38546               5         605        0  \n",
       "1             8228.752520  26648.43525               2         572        1  \n",
       "2             2027.830850  65866.71246               4         602        0  \n",
       "3             2501.730397  74356.88347               5         612        0  \n",
       "4             1768.826187  23448.32631               6         631        0  "
      ]
     },
     "execution_count": 55,
     "metadata": {},
     "output_type": "execute_result"
    }
   ],
   "source": [
    "loan_data = pd.read_csv('Task 3 and 4_Loan_Data.csv')\n",
    "loan_data.head()"
   ]
  },
  {
   "cell_type": "code",
   "execution_count": 56,
   "metadata": {},
   "outputs": [
    {
     "data": {
      "text/html": [
       "<div>\n",
       "<style scoped>\n",
       "    .dataframe tbody tr th:only-of-type {\n",
       "        vertical-align: middle;\n",
       "    }\n",
       "\n",
       "    .dataframe tbody tr th {\n",
       "        vertical-align: top;\n",
       "    }\n",
       "\n",
       "    .dataframe thead th {\n",
       "        text-align: right;\n",
       "    }\n",
       "</style>\n",
       "<table border=\"1\" class=\"dataframe\">\n",
       "  <thead>\n",
       "    <tr style=\"text-align: right;\">\n",
       "      <th></th>\n",
       "      <th>fico_score</th>\n",
       "      <th>fico_quantile_bucket</th>\n",
       "    </tr>\n",
       "  </thead>\n",
       "  <tbody>\n",
       "    <tr>\n",
       "      <th>0</th>\n",
       "      <td>605</td>\n",
       "      <td>Bucket 2</td>\n",
       "    </tr>\n",
       "    <tr>\n",
       "      <th>1</th>\n",
       "      <td>572</td>\n",
       "      <td>Bucket 1</td>\n",
       "    </tr>\n",
       "    <tr>\n",
       "      <th>2</th>\n",
       "      <td>602</td>\n",
       "      <td>Bucket 2</td>\n",
       "    </tr>\n",
       "    <tr>\n",
       "      <th>3</th>\n",
       "      <td>612</td>\n",
       "      <td>Bucket 2</td>\n",
       "    </tr>\n",
       "    <tr>\n",
       "      <th>4</th>\n",
       "      <td>631</td>\n",
       "      <td>Bucket 3</td>\n",
       "    </tr>\n",
       "  </tbody>\n",
       "</table>\n",
       "</div>"
      ],
      "text/plain": [
       "   fico_score fico_quantile_bucket\n",
       "0         605             Bucket 2\n",
       "1         572             Bucket 1\n",
       "2         602             Bucket 2\n",
       "3         612             Bucket 2\n",
       "4         631             Bucket 3"
      ]
     },
     "execution_count": 56,
     "metadata": {},
     "output_type": "execute_result"
    }
   ],
   "source": [
    "# Method 1: Using Quantiles\n",
    "num_buckets = 5  \n",
    "# Compute quantile-based boundaries for FICO scores\n",
    "fico_quantile_bins = np.percentile(loan_data['fico_score'], np.linspace(0, 100, num_buckets + 1))\n",
    "def quantile_fico_bucket(fico_score):\n",
    "    for i in range(len(fico_quantile_bins) - 1):\n",
    "        if fico_quantile_bins[i] <= fico_score < fico_quantile_bins[i + 1]:\n",
    "            return f\"Bucket {i+1}\" \n",
    "loan_data['fico_quantile_bucket'] = loan_data['fico_score'].apply(quantile_fico_bucket)\n",
    "loan_data[['fico_score','fico_quantile_bucket']].head()"
   ]
  },
  {
   "cell_type": "code",
   "execution_count": 57,
   "metadata": {},
   "outputs": [
    {
     "name": "stdout",
     "output_type": "stream",
     "text": [
      "FICO Quantile Bucket Boundaries (Min-Max):\n",
      "  fico_quantile_bucket  min  max\n",
      "0             Bucket 1  408  586\n",
      "1             Bucket 2  587  622\n",
      "2             Bucket 3  623  652\n",
      "3             Bucket 4  653  687\n",
      "4             Bucket 5  688  835\n"
     ]
    }
   ],
   "source": [
    "# Group by fico_quantile_bucket and calculate min and max FICO score in each bucket\n",
    "quantile_bucket_summary = loan_data.groupby('fico_quantile_bucket')['fico_score'].agg(['min', 'max']).reset_index()\n",
    "\n",
    "# Display the summary table\n",
    "print(\"FICO Quantile Bucket Boundaries (Min-Max):\")\n",
    "print(quantile_bucket_summary)\n"
   ]
  },
  {
   "cell_type": "code",
   "execution_count": 58,
   "metadata": {},
   "outputs": [],
   "source": [
    "# # Method 2: Kmeans\n",
    "# from sklearn.cluster import KMeans\n",
    "# num_buckets = 5\n",
    "\n",
    "# fico_scores = loan_data[['fico_score']].values.reshape(-1, 1)\n",
    "\n",
    "# # Apply K-Means clustering to optimize FICO score buckets\n",
    "# kmeans = KMeans(n_clusters=num_buckets, random_state=42, n_init=10)\n",
    "# loan_data['fico_cluster'] = kmeans.fit_predict(fico_scores)\n",
    "\n",
    "# # Compute the Mean Squared Error (MSE) for each cluster\n",
    "# mse_per_cluster = {}\n",
    "# for cluster in range(num_buckets):\n",
    "#     cluster_data = loan_data[loan_data['fico_cluster'] == cluster]['fico_score']\n",
    "#     mse = np.mean((cluster_data - cluster_data.mean())**2)\n",
    "#     mse_per_cluster[f'Bucket {cluster+1}'] = round(mse, 2)\n",
    "\n",
    "# mse_per_cluster"
   ]
  },
  {
   "cell_type": "code",
   "execution_count": 59,
   "metadata": {},
   "outputs": [],
   "source": [
    "\n",
    "\n",
    "# Define the Greedy MSE Bucketing Function\n",
    "def greedy_mse_bucketing(fico_scores, default_labels, n_buckets=5):\n",
    "    df = pd.DataFrame({'fico': fico_scores, 'default': default_labels})\n",
    "    df = df.sort_values('fico').reset_index(drop=True)\n",
    "\n",
    "    splits = [0, len(df)]\n",
    "    while len(splits) - 1 < n_buckets:\n",
    "        best_split = None\n",
    "        best_mse = float('inf')\n",
    "        for i in range(len(splits) - 1):\n",
    "            start, end = splits[i], splits[i + 1]\n",
    "            for j in range(start + 1, end):\n",
    "                temp_splits = splits[:i+1] + [j] + splits[i+1:]\n",
    "                mse = 0\n",
    "                for k in range(len(temp_splits) - 1):\n",
    "                    y_true = df['default'].iloc[temp_splits[k]:temp_splits[k+1]]\n",
    "                    y_pred = np.full_like(y_true, y_true.mean(), dtype=float)\n",
    "                    mse += mean_squared_error(y_true, y_pred) * len(y_true)\n",
    "                mse /= len(df)\n",
    "                if mse < best_mse:\n",
    "                    best_mse = mse\n",
    "                    best_split = j\n",
    "        if best_split is not None:\n",
    "            splits.append(best_split)\n",
    "            splits = sorted(splits)\n",
    "        else:\n",
    "            break\n",
    "\n",
    "    df['credit_rating'] = 0\n",
    "    for i in range(len(splits) - 1):\n",
    "        df.loc[splits[i]:splits[i+1]-1, 'credit_rating'] = i + 1\n",
    "\n",
    "    return df[['fico', 'default', 'credit_rating']], best_mse\n",
    "\n",
    "# Apply the function to the dataset\n",
    "result_df, mse = greedy_mse_bucketing(loan_data['fico_score'], loan_data['default'], n_buckets=5)\n",
    "\n"
   ]
  },
  {
   "cell_type": "code",
   "execution_count": 60,
   "metadata": {},
   "outputs": [
    {
     "name": "stdout",
     "output_type": "stream",
     "text": [
      "MSE after greedy bucketing: 0.133\n",
      "   fico  default  credit_rating\n",
      "0   408        0              1\n",
      "1   409        1              1\n",
      "2   418        1              1\n",
      "3   425        1              1\n",
      "4   438        1              1\n",
      "5   440        1              1\n",
      "6   441        1              1\n",
      "7   444        0              1\n",
      "8   447        0              1\n",
      "9   449        1              1\n"
     ]
    }
   ],
   "source": [
    "# Show MSE value\n",
    "print(\"MSE after greedy bucketing:\", round(mse, 4))\n",
    "\n",
    "# Show the first few rows of the result\n",
    "print(result_df.head(10))\n",
    "loan_data['credit_rating'] = result_df['credit_rating']"
   ]
  },
  {
   "cell_type": "code",
   "execution_count": 61,
   "metadata": {},
   "outputs": [
    {
     "name": "stdout",
     "output_type": "stream",
     "text": [
      "\n",
      "📊 FICO Score Boundaries for Each Credit Rating:\n",
      "   rating  min  max\n",
      "0       1  408  521\n",
      "1       2  521  580\n",
      "2       3  580  611\n",
      "3       4  611  640\n",
      "4       5  640  850\n"
     ]
    }
   ],
   "source": [
    "def extract_bucket_boundaries(fico_scores, credit_ratings):\n",
    "    df = pd.DataFrame({'fico': fico_scores, 'rating': credit_ratings})\n",
    "    boundaries = df.groupby('rating')['fico'].agg(['min', 'max']).reset_index()\n",
    "    return boundaries\n",
    "\n",
    "# Get FICO boundaries for each rating bucket\n",
    "boundaries_df = extract_bucket_boundaries(result_df['fico'], result_df['credit_rating'])\n",
    "\n",
    "# Show the result\n",
    "print(\"\\n📊 FICO Score Boundaries for Each Credit Rating:\")\n",
    "print(boundaries_df)"
   ]
  },
  {
   "cell_type": "code",
   "execution_count": 62,
   "metadata": {},
   "outputs": [
    {
     "data": {
      "text/plain": [
       "[300,\n",
       " np.float64(499.88251990022667),\n",
       " np.float64(580.4327127497354),\n",
       " np.float64(649.2303445833217),\n",
       " 850]"
      ]
     },
     "execution_count": 62,
     "metadata": {},
     "output_type": "execute_result"
    }
   ],
   "source": [
    "# Method 3: Log-Likelihood Optimization for FICO Score Bucketing\n",
    "\n",
    "\n",
    "from scipy.optimize import minimize\n",
    "\n",
    "# Prepare data: Count defaults and total borrowers per FICO score\n",
    "fico_default_counts = loan_data.groupby('fico_score')['default'].sum()  # Number of defaults per score\n",
    "fico_total_counts = loan_data.groupby('fico_score')['default'].count()  # Total borrowers per score\n",
    "\n",
    "# Remove missing data points (if any)\n",
    "valid_fico_scores = fico_default_counts.index.intersection(fico_total_counts.index)\n",
    "fico_default_counts = fico_default_counts.loc[valid_fico_scores]\n",
    "fico_total_counts = fico_total_counts.loc[valid_fico_scores]\n",
    "\n",
    "# Compute default probabilities per FICO score\n",
    "default_probabilities = fico_default_counts / fico_total_counts\n",
    "\n",
    "# Define the Log-Likelihood function to optimize\n",
    "def log_likelihood(buckets):\n",
    "    \"\"\"\n",
    "    Computes the negative log-likelihood for a given set of FICO score bucket boundaries.\n",
    "\n",
    "    Parameters:\n",
    "    - buckets (list): FICO score bucket boundaries.\n",
    "\n",
    "    Returns:\n",
    "    - float: Negative log-likelihood value (to be minimized).\n",
    "    \"\"\"\n",
    "    buckets = sorted([300] + list(buckets) + [850])  # Ensure bounds from 300 to 850\n",
    "    likelihood = 0\n",
    "\n",
    "    # Loop over each bucket and compute its contribution to the likelihood\n",
    "    for i in range(len(buckets) - 1):\n",
    "        lower, upper = buckets[i], buckets[i + 1]\n",
    "        bucket_mask = (valid_fico_scores >= lower) & (valid_fico_scores < upper)\n",
    "\n",
    "        n_i = fico_total_counts[bucket_mask].sum()  # Total loans in bucket\n",
    "        k_i = fico_default_counts[bucket_mask].sum()  # Defaults in bucket\n",
    "\n",
    "        # Avoid log(0) issues\n",
    "        if n_i > 0 and k_i > 0:\n",
    "            p_i = k_i / n_i  # Default probability in bucket\n",
    "            likelihood += k_i * np.log(p_i) + (n_i - k_i) * np.log(1 - p_i)\n",
    "\n",
    "    return -likelihood  # Minimize negative log-likelihood\n",
    "\n",
    "# Optimize bucket boundaries using log-likelihood maximization\n",
    "initial_buckets = np.linspace(300, 850, 5)[1:-1]  # Initial guesses for bucket boundaries\n",
    "opt_result = minimize(log_likelihood, initial_buckets, method='Nelder-Mead')\n",
    "\n",
    "# Get optimized bucket boundaries\n",
    "optimized_buckets = sorted([300] + list(opt_result.x) + [850])\n",
    "\n",
    "# Assign each borrower's FICO score to an optimized bucket\n",
    "def assign_optimized_bucket(fico_score):\n",
    "    for i in range(len(optimized_buckets) - 1):\n",
    "        if optimized_buckets[i] <= fico_score < optimized_buckets[i + 1]:\n",
    "            return f\"Bucket {i+1}\"\n",
    "\n",
    "loan_data['optimized_fico_bucket'] = loan_data['fico_score'].apply(assign_optimized_bucket)\n",
    "\n",
    "optimized_buckets\n"
   ]
  },
  {
   "cell_type": "markdown",
   "metadata": {},
   "source": [
    "Compare Default Rates Across Bucketsm"
   ]
  },
  {
   "cell_type": "code",
   "execution_count": 63,
   "metadata": {},
   "outputs": [],
   "source": [
    "default_rate_quantile = loan_data.groupby('fico_quantile_bucket')['default'].mean()\n",
    "default_rate_mse = loan_data.groupby('credit_rating')['default'].mean()\n",
    "default_rate_log_likelihood = loan_data.groupby('optimized_fico_bucket')['default'].mean()\n"
   ]
  },
  {
   "cell_type": "code",
   "execution_count": 64,
   "metadata": {},
   "outputs": [
    {
     "data": {
      "image/png": "[encoded data removed]",
      "text/plain": [
       "<Figure size 1200x500 with 3 Axes>"
      ]
     },
     "metadata": {},
     "output_type": "display_data"
    }
   ],
   "source": [
    "plt.figure(figsize=(12, 5))\n",
    "\n",
    "# Plot Quantile-Based Bucketing Default Rates\n",
    "plt.subplot(1, 3, 1)\n",
    "sns.barplot(x=default_rate_quantile.index, y=default_rate_quantile.values)\n",
    "plt.title(\"Default Rate per Quantile Bucket\")\n",
    "plt.xlabel(\"Quantile-Based Bucket\")\n",
    "plt.ylabel(\"Default Rate\")\n",
    "# Plot MSE-Based Bucketing Default Rates\n",
    "plt.subplot(1, 3, 2)\n",
    "sns.barplot(x=default_rate_mse.index.astype(str), y=default_rate_mse.values)\n",
    "plt.title(\"Default Rate per MSE-Optimized Bucket\")\n",
    "plt.xlabel(\"MSE-Based Bucket\")\n",
    "plt.ylabel(\"Default Rate\")\n",
    "\n",
    "# Plot Log-Likelihood Optimized Bucketing Default Rates\n",
    "plt.subplot(1, 3, 3)\n",
    "sns.barplot(x=default_rate_log_likelihood.index, y=default_rate_log_likelihood.values)\n",
    "plt.title(\"Default Rate per Log-Likelihood Bucket\")\n",
    "plt.xlabel(\"Log-Likelihood Optimized Bucket\")\n",
    "plt.ylabel(\"Default Rate\")\n",
    "\n",
    "plt.tight_layout()\n",
    "plt.show()"
   ]
  },
  {
   "cell_type": "code",
   "execution_count": 66,
   "metadata": {},
   "outputs": [
    {
     "name": "stdout",
     "output_type": "stream",
     "text": [
      "lda_bucket\n",
      "1    0.0000\n",
      "2    0.0000\n",
      "3    0.0000\n",
      "4    0.0010\n",
      "5    0.9245\n",
      "Name: default, dtype: float64\n"
     ]
    },
    {
     "name": "stderr",
     "output_type": "stream",
     "text": [
      "/var/folders/57/lkbzvbp92nv6k9m7r10l7d3w0000gn/T/ipykernel_35032/2301505559.py:18: FutureWarning: The default of observed=False is deprecated and will be changed to True in a future version of pandas. Pass observed=False to retain current behavior or observed=True to adopt the future default and silence this warning.\n",
      "  bucket_default_rate = loan_data.groupby('lda_bucket')['default'].mean()\n"
     ]
    }
   ],
   "source": [
    "from sklearn.discriminant_analysis import LinearDiscriminantAnalysis\n",
    "\n",
    "# Step 1: Select features and label\n",
    "X = loan_data[['fico_score', 'loan_amt_outstanding', 'total_debt_outstanding', 'income', 'years_employed', 'credit_lines_outstanding']]\n",
    "y = loan_data['default']\n",
    "\n",
    "# Step 2: Fit LDA\n",
    "lda = LinearDiscriminantAnalysis(n_components=1)\n",
    "lda_score = lda.fit_transform(X, y)\n",
    "\n",
    "# Step 3: Add LDA score to your data\n",
    "loan_data['lda_score'] = lda_score  # this becomes a Series already\n",
    "\n",
    "# ✅ Step 4: Bucket the LDA scores — no flatten() needed here!\n",
    "loan_data['lda_bucket'] = pd.qcut(loan_data['lda_score'], q=5, labels=[1, 2, 3, 4, 5])\n",
    "\n",
    "# Step 5: Check default rate per bucket\n",
    "bucket_default_rate = loan_data.groupby('lda_bucket')['default'].mean()\n",
    "print(bucket_default_rate)\n"
   ]
  },
  {
   "cell_type": "code",
   "execution_count": null,
   "metadata": {},
   "outputs": [],
   "source": []
  }
 ],
 "metadata": {
  "kernelspec": {
   "display_name": "jpmorgan",
   "language": "python",
   "name": "python3"
  },
  "language_info": {
   "codemirror_mode": {
    "name": "ipython",
    "version": 3
   },
   "file_extension": ".py",
   "mimetype": "text/x-python",
   "name": "python",
   "nbconvert_exporter": "python",
   "pygments_lexer": "ipython3",
   "version": "3.11.7"
  }
 },
 "nbformat": 4,
 "nbformat_minor": 2
}
