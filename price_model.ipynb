{
 "cells": [
  {
   "cell_type": "code",
   "execution_count": 1,
   "metadata": {},
   "outputs": [],
   "source": [
    "from datetime import datetime\n",
    "\n",
    "def price_contract_v3(in_dates, in_prices, out_dates, out_prices, rate, storage_cost_rate, total_vol, injection_withdrawal_cost):\n",
    "    \"\"\"\n",
    "    Simplified Gas Storage Pricing Model\n",
    "\n",
    "    Parameters:\n",
    "    - in_dates (list): List of injection dates (format: 'YYYY-MM-DD')\n",
    "    - in_prices (list): Corresponding prices for injection dates\n",
    "    - out_dates (list): List of withdrawal dates (format: 'YYYY-MM-DD')\n",
    "    - out_prices (list): Corresponding prices for withdrawal dates\n",
    "    - rate (float): Maximum volume that can be injected/withdrawn per operation (MMBtu)\n",
    "    - storage_cost_rate (float): Monthly storage cost ($)\n",
    "    - total_vol (float): Maximum storage capacity (MMBtu)\n",
    "    - injection_withdrawal_cost (float): Cost per MMBtu for injection and withdrawal ($)\n",
    "\n",
    "    Returns:\n",
    "    - net_profit (float): The total net profit/loss from the contract ($)\n",
    "    \"\"\"\n",
    "    # Convert dates to datetime\n",
    "    in_dates = [datetime.strptime(date, \"%Y-%m-%d\") for date in in_dates]\n",
    "    out_dates = [datetime.strptime(date, \"%Y-%m-%d\") for date in out_dates]\n",
    "    all_dates = sorted(set(in_dates + out_dates))\n",
    "\n",
    "    volume = 0  # Current storage volume\n",
    "    buy_cost = 0  # Total purchase cost\n",
    "    sell_revenue = 0  # Total revenue from sales\n",
    "    storage_cost = 0  # Total storage cost\n",
    "\n",
    "    for date in all_dates:\n",
    "        if date in in_dates:\n",
    "            idx = in_dates.index(date)\n",
    "            price = in_prices[idx]\n",
    "\n",
    "            # Ensure storage does not exceed maximum capacity\n",
    "            if volume + rate > total_vol:\n",
    "                print(f\"⚠️ Skipped injection on {date.strftime('%Y-%m-%d')} (Insufficient storage capacity)\")\n",
    "                continue\n",
    "\n",
    "            volume += rate\n",
    "            buy_cost += price * rate\n",
    "            storage_cost += storage_cost_rate  # Add monthly storage cost\n",
    "            print(f\"✅ Injected {rate} MMBtu on {date.strftime('%Y-%m-%d')} at ${price}/MMBtu\")\n",
    "\n",
    "        if date in out_dates:\n",
    "            idx = out_dates.index(date)\n",
    "            price = out_prices[idx]\n",
    "\n",
    "            # Ensure there is enough gas to withdraw\n",
    "            if volume < rate:\n",
    "                print(f\"⚠️ Skipped withdrawal on {date.strftime('%Y-%m-%d')} (Insufficient stored gas)\")\n",
    "                continue\n",
    "\n",
    "            volume -= rate\n",
    "            sell_revenue += price * rate\n",
    "            print(f\"✅ Withdrew {rate} MMBtu on {date.strftime('%Y-%m-%d')} at ${price}/MMBtu\")\n",
    "\n",
    "    # Calculate total injection & withdrawal costs\n",
    "    transaction_cost = injection_withdrawal_cost * (len(in_dates) + len(out_dates)) * rate\n",
    "\n",
    "    # Compute final contract value\n",
    "    net_profit = sell_revenue - buy_cost - storage_cost - transaction_cost\n",
    "\n",
    "    return round(net_profit, 2)\n"
   ]
  },
  {
   "cell_type": "code",
   "execution_count": 2,
   "metadata": {},
   "outputs": [
    {
     "name": "stdout",
     "output_type": "stream",
     "text": [
      "✅ Injected 500000 MMBtu on 2024-06-30 at $11.5/MMBtu\n",
      "✅ Injected 500000 MMBtu on 2024-07-31 at $11.7/MMBtu\n",
      "✅ Withdrew 500000 MMBtu on 2024-09-30 at $12.3/MMBtu\n",
      "✅ Withdrew 500000 MMBtu on 2024-12-31 at $12.8/MMBtu\n"
     ]
    },
    {
     "data": {
      "text/plain": [
       "730000.0"
      ]
     },
     "execution_count": 2,
     "metadata": {},
     "output_type": "execute_result"
    }
   ],
   "source": [
    "# Example Parameters\n",
    "injection_dates = [\"2024-06-30\", \"2024-07-31\"]\n",
    "withdrawal_dates = [\"2024-09-30\", \"2024-12-31\"]\n",
    "injection_prices = [11.5, 11.7]  # Prices at injection dates ($/MMBtu)\n",
    "withdrawal_prices = [12.3, 12.8]  # Prices at withdrawal dates ($/MMBtu)\n",
    "rate = 500000  # MMBtu per injection/withdrawal\n",
    "storage_cost_rate = 100000  # $ per month\n",
    "total_vol = 5000000  # Maximum storage capacity (MMBtu)\n",
    "injection_withdrawal_cost = 0.01  # $ per MMBtu for injection/withdrawal\n",
    "\n",
    "# Run the simplified function\n",
    "contract_value_v3 = price_contract_v3(\n",
    "    injection_dates, injection_prices, withdrawal_dates, withdrawal_prices,\n",
    "    rate, storage_cost_rate, total_vol, injection_withdrawal_cost\n",
    ")\n",
    "\n",
    "# Display the contract value\n",
    "contract_value_v3"
   ]
  },
  {
   "cell_type": "code",
   "execution_count": null,
   "metadata": {},
   "outputs": [],
   "source": []
  }
 ],
 "metadata": {
  "kernelspec": {
   "display_name": "jpmorgan",
   "language": "python",
   "name": "python3"
  },
  "language_info": {
   "codemirror_mode": {
    "name": "ipython",
    "version": 3
   },
   "file_extension": ".py",
   "mimetype": "text/x-python",
   "name": "python",
   "nbconvert_exporter": "python",
   "pygments_lexer": "ipython3",
   "version": "3.11.7"
  }
 },
 "nbformat": 4,
 "nbformat_minor": 2
}
